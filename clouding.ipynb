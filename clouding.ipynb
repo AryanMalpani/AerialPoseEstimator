{
 "cells": [
  {
   "cell_type": "code",
   "execution_count": null,
   "id": "fb0dec02",
   "metadata": {},
   "outputs": [],
   "source": [
    "import cv2\n",
    "import numpy as np\n",
    "import os\n",
    "\n",
    "def gammaCorrection(src, filename):\n",
    "    path = \"/home/aryna/Documents/Sem 5/CV/CrossLoc/datasets/naturescape/test_drone_real/rgb/\"\n",
    "#     direc = str(filename)+\"/\"\n",
    "#     path = os.path.join(parent, direc) \n",
    "#     os.mkdir(path)\n",
    "    gammaMatrix = [1]\n",
    "    for gamma in gammaMatrix:\n",
    "        invGamma = 1 / gamma\n",
    "\n",
    "        table = [((i / 255) ** invGamma) * 255 for i in range(256)]\n",
    "        table = np.array(table, np.uint8)\n",
    "        file = path+str(filename)\n",
    "        cv2.imwrite(file, cv2.LUT(src, table))\n"
   ]
  },
  {
   "cell_type": "code",
   "execution_count": null,
   "id": "bdba9a1b",
   "metadata": {},
   "outputs": [],
   "source": [
    "\n",
    "folder = \"/home/aryna/Documents/Sem 5/CV/CrossLoc/datasets/naturescape/test_drone_real/rgb_og/\"\n",
    "count = 0\n",
    "\n",
    "for filename in os.listdir(folder):\n",
    "    count += 1\n",
    "    temp = os.path.join(folder,filename)\n",
    "    if(temp.endswith('png')):\n",
    "        img = cv2.imread(temp)\n",
    "        gammaCorrection(img, filename)\n",
    "    print(count)"
   ]
  },
  {
   "cell_type": "code",
   "execution_count": null,
   "id": "9642b306",
   "metadata": {},
   "outputs": [],
   "source": [
    "import matplotlib.pyplot as plt\n",
    "\n",
    "plt.imshow(img)\n",
    "plt.show()\n",
    "\n",
    "\n",
    "\n",
    "\n"
   ]
  },
  {
   "cell_type": "code",
   "execution_count": null,
   "id": "0cd5954f",
   "metadata": {},
   "outputs": [],
   "source": []
  }
 ],
 "metadata": {
  "kernelspec": {
   "display_name": "Python 3 (ipykernel)",
   "language": "python",
   "name": "python3"
  },
  "language_info": {
   "codemirror_mode": {
    "name": "ipython",
    "version": 3
   },
   "file_extension": ".py",
   "mimetype": "text/x-python",
   "name": "python",
   "nbconvert_exporter": "python",
   "pygments_lexer": "ipython3",
   "version": "3.10.6"
  },
  "vscode": {
   "interpreter": {
    "hash": "916dbcbb3f70747c44a77c7bcd40155683ae19c65e1c03b4aa3499c5328201f1"
   }
  }
 },
 "nbformat": 4,
 "nbformat_minor": 5
}
