{
 "cells": [
  {
   "cell_type": "code",
   "execution_count": 53,
   "id": "fb0dec02",
   "metadata": {},
   "outputs": [],
   "source": [
    "import cv2\n",
    "import numpy as np\n",
    "import os\n",
    "tempz = []\n",
    "def gammaCorrection(src, filename):\n",
    "    path = \"/home/aryna/Documents/Sem_5/CV/AerialPoseEstimator/Datasets/Input/\"\n",
    "#     direc = str(filename)+\"/\"\n",
    "#     path = os.path.join(parent, direc) \n",
    "#     os.mkdir(path)\n",
    "    gammaMatrix = [15,25,35]\n",
    "    for gamma in gammaMatrix:\n",
    "        file = str(filename)+'_'+str(gamma)+'.png'\n",
    "        if file not in os.listdir(path):\n",
    "            print(file)\n",
    "            file = path+file\n",
    "            invGamma = 10 / gamma\n",
    "\n",
    "            table = [((i / 255) ** invGamma) * 255 for i in range(256)]\n",
    "            table = np.array(table, np.uint8)\n",
    "\n",
    "    #         print(file)\n",
    "            try:\n",
    "                cv2.imwrite(file, cv2.LUT(src, table))\n",
    "            except Exception as e:\n",
    "                print(e)\n",
    "                tempz.append(file)\n",
    "                print(\"LOL- Na hopayega\")\n",
    "\n"
   ]
  },
  {
   "cell_type": "code",
   "execution_count": 54,
   "id": "bdba9a1b",
   "metadata": {},
   "outputs": [
    {
     "name": "stderr",
     "output_type": "stream",
     "text": [
      "libpng error: Read Error\n"
     ]
    },
    {
     "name": "stdout",
     "output_type": "stream",
     "text": [
      "Echendens-LHS_14384.png_15.png\n",
      "OpenCV(4.6.0) /io/opencv/modules/core/src/matrix.cpp:749: error: (-215:Assertion failed) m.dims >= 2 in function 'Mat'\n",
      "\n",
      "LOL- Na hopayega\n",
      "Echendens-LHS_14384.png_25.png\n",
      "OpenCV(4.6.0) /io/opencv/modules/core/src/matrix.cpp:749: error: (-215:Assertion failed) m.dims >= 2 in function 'Mat'\n",
      "\n",
      "LOL- Na hopayega\n",
      "Echendens-LHS_14384.png_35.png\n",
      "OpenCV(4.6.0) /io/opencv/modules/core/src/matrix.cpp:749: error: (-215:Assertion failed) m.dims >= 2 in function 'Mat'\n",
      "\n",
      "LOL- Na hopayega\n"
     ]
    },
    {
     "name": "stderr",
     "output_type": "stream",
     "text": [
      "libpng error: Read Error\n"
     ]
    },
    {
     "name": "stdout",
     "output_type": "stream",
     "text": [
      "Echendens-LHS_14670.png_15.png\n",
      "OpenCV(4.6.0) /io/opencv/modules/core/src/matrix.cpp:749: error: (-215:Assertion failed) m.dims >= 2 in function 'Mat'\n",
      "\n",
      "LOL- Na hopayega\n",
      "Echendens-LHS_14670.png_25.png\n",
      "OpenCV(4.6.0) /io/opencv/modules/core/src/matrix.cpp:749: error: (-215:Assertion failed) m.dims >= 2 in function 'Mat'\n",
      "\n",
      "LOL- Na hopayega\n",
      "Echendens-LHS_14670.png_35.png\n",
      "OpenCV(4.6.0) /io/opencv/modules/core/src/matrix.cpp:749: error: (-215:Assertion failed) m.dims >= 2 in function 'Mat'\n",
      "\n",
      "LOL- Na hopayega\n"
     ]
    },
    {
     "name": "stderr",
     "output_type": "stream",
     "text": [
      "libpng error: Read Error\n"
     ]
    },
    {
     "name": "stdout",
     "output_type": "stream",
     "text": [
      "Echendens-LHS_14341.png_15.png\n",
      "OpenCV(4.6.0) /io/opencv/modules/core/src/matrix.cpp:749: error: (-215:Assertion failed) m.dims >= 2 in function 'Mat'\n",
      "\n",
      "LOL- Na hopayega\n",
      "Echendens-LHS_14341.png_25.png\n",
      "OpenCV(4.6.0) /io/opencv/modules/core/src/matrix.cpp:749: error: (-215:Assertion failed) m.dims >= 2 in function 'Mat'\n",
      "\n",
      "LOL- Na hopayega\n",
      "Echendens-LHS_14341.png_35.png\n",
      "OpenCV(4.6.0) /io/opencv/modules/core/src/matrix.cpp:749: error: (-215:Assertion failed) m.dims >= 2 in function 'Mat'\n",
      "\n",
      "LOL- Na hopayega\n"
     ]
    },
    {
     "name": "stderr",
     "output_type": "stream",
     "text": [
      "libpng error: Read Error\n"
     ]
    },
    {
     "name": "stdout",
     "output_type": "stream",
     "text": [
      "Echendens-LHS_14347.png_15.png\n",
      "OpenCV(4.6.0) /io/opencv/modules/core/src/matrix.cpp:749: error: (-215:Assertion failed) m.dims >= 2 in function 'Mat'\n",
      "\n",
      "LOL- Na hopayega\n",
      "Echendens-LHS_14347.png_25.png\n",
      "OpenCV(4.6.0) /io/opencv/modules/core/src/matrix.cpp:749: error: (-215:Assertion failed) m.dims >= 2 in function 'Mat'\n",
      "\n",
      "LOL- Na hopayega\n",
      "Echendens-LHS_14347.png_35.png\n",
      "OpenCV(4.6.0) /io/opencv/modules/core/src/matrix.cpp:749: error: (-215:Assertion failed) m.dims >= 2 in function 'Mat'\n",
      "\n",
      "LOL- Na hopayega\n"
     ]
    },
    {
     "name": "stderr",
     "output_type": "stream",
     "text": [
      "libpng error: Read Error\n"
     ]
    },
    {
     "name": "stdout",
     "output_type": "stream",
     "text": [
      "Echendens-LHS_14916.png_15.png\n",
      "OpenCV(4.6.0) /io/opencv/modules/core/src/matrix.cpp:749: error: (-215:Assertion failed) m.dims >= 2 in function 'Mat'\n",
      "\n",
      "LOL- Na hopayega\n",
      "Echendens-LHS_14916.png_25.png\n",
      "OpenCV(4.6.0) /io/opencv/modules/core/src/matrix.cpp:749: error: (-215:Assertion failed) m.dims >= 2 in function 'Mat'\n",
      "\n",
      "LOL- Na hopayega\n",
      "Echendens-LHS_14916.png_35.png\n",
      "OpenCV(4.6.0) /io/opencv/modules/core/src/matrix.cpp:749: error: (-215:Assertion failed) m.dims >= 2 in function 'Mat'\n",
      "\n",
      "LOL- Na hopayega\n"
     ]
    },
    {
     "name": "stderr",
     "output_type": "stream",
     "text": [
      "libpng error: Read Error\n"
     ]
    },
    {
     "name": "stdout",
     "output_type": "stream",
     "text": [
      "Echendens-LHS_14345.png_15.png\n",
      "OpenCV(4.6.0) /io/opencv/modules/core/src/matrix.cpp:749: error: (-215:Assertion failed) m.dims >= 2 in function 'Mat'\n",
      "\n",
      "LOL- Na hopayega\n",
      "Echendens-LHS_14345.png_25.png\n",
      "OpenCV(4.6.0) /io/opencv/modules/core/src/matrix.cpp:749: error: (-215:Assertion failed) m.dims >= 2 in function 'Mat'\n",
      "\n",
      "LOL- Na hopayega\n",
      "Echendens-LHS_14345.png_35.png\n",
      "OpenCV(4.6.0) /io/opencv/modules/core/src/matrix.cpp:749: error: (-215:Assertion failed) m.dims >= 2 in function 'Mat'\n",
      "\n",
      "LOL- Na hopayega\n"
     ]
    },
    {
     "name": "stderr",
     "output_type": "stream",
     "text": [
      "libpng error: Read Error\n"
     ]
    },
    {
     "name": "stdout",
     "output_type": "stream",
     "text": [
      "Echendens-LHS_14914.png_15.png\n",
      "OpenCV(4.6.0) /io/opencv/modules/core/src/matrix.cpp:749: error: (-215:Assertion failed) m.dims >= 2 in function 'Mat'\n",
      "\n",
      "LOL- Na hopayega\n",
      "Echendens-LHS_14914.png_25.png\n",
      "OpenCV(4.6.0) /io/opencv/modules/core/src/matrix.cpp:749: error: (-215:Assertion failed) m.dims >= 2 in function 'Mat'\n",
      "\n",
      "LOL- Na hopayega\n",
      "Echendens-LHS_14914.png_35.png\n",
      "OpenCV(4.6.0) /io/opencv/modules/core/src/matrix.cpp:749: error: (-215:Assertion failed) m.dims >= 2 in function 'Mat'\n",
      "\n",
      "LOL- Na hopayega\n"
     ]
    },
    {
     "name": "stderr",
     "output_type": "stream",
     "text": [
      "libpng error: Read Error\n"
     ]
    },
    {
     "name": "stdout",
     "output_type": "stream",
     "text": [
      "Echendens-LHS_14346.png_15.png\n",
      "OpenCV(4.6.0) /io/opencv/modules/core/src/matrix.cpp:749: error: (-215:Assertion failed) m.dims >= 2 in function 'Mat'\n",
      "\n",
      "LOL- Na hopayega\n",
      "Echendens-LHS_14346.png_25.png\n",
      "OpenCV(4.6.0) /io/opencv/modules/core/src/matrix.cpp:749: error: (-215:Assertion failed) m.dims >= 2 in function 'Mat'\n",
      "\n",
      "LOL- Na hopayega\n",
      "Echendens-LHS_14346.png_35.png\n",
      "OpenCV(4.6.0) /io/opencv/modules/core/src/matrix.cpp:749: error: (-215:Assertion failed) m.dims >= 2 in function 'Mat'\n",
      "\n",
      "LOL- Na hopayega\n"
     ]
    },
    {
     "name": "stderr",
     "output_type": "stream",
     "text": [
      "libpng error: Read Error\n"
     ]
    },
    {
     "name": "stdout",
     "output_type": "stream",
     "text": [
      "Echendens-LHS_14377.png_15.png\n",
      "OpenCV(4.6.0) /io/opencv/modules/core/src/matrix.cpp:749: error: (-215:Assertion failed) m.dims >= 2 in function 'Mat'\n",
      "\n",
      "LOL- Na hopayega\n",
      "Echendens-LHS_14377.png_25.png\n",
      "OpenCV(4.6.0) /io/opencv/modules/core/src/matrix.cpp:749: error: (-215:Assertion failed) m.dims >= 2 in function 'Mat'\n",
      "\n",
      "LOL- Na hopayega\n",
      "Echendens-LHS_14377.png_35.png\n",
      "OpenCV(4.6.0) /io/opencv/modules/core/src/matrix.cpp:749: error: (-215:Assertion failed) m.dims >= 2 in function 'Mat'\n",
      "\n",
      "LOL- Na hopayega\n"
     ]
    },
    {
     "name": "stderr",
     "output_type": "stream",
     "text": [
      "libpng error: Read Error\n"
     ]
    },
    {
     "name": "stdout",
     "output_type": "stream",
     "text": [
      "Echendens-LHS_14915.png_15.png\n",
      "OpenCV(4.6.0) /io/opencv/modules/core/src/matrix.cpp:749: error: (-215:Assertion failed) m.dims >= 2 in function 'Mat'\n",
      "\n",
      "LOL- Na hopayega\n",
      "Echendens-LHS_14915.png_25.png\n",
      "OpenCV(4.6.0) /io/opencv/modules/core/src/matrix.cpp:749: error: (-215:Assertion failed) m.dims >= 2 in function 'Mat'\n",
      "\n",
      "LOL- Na hopayega\n",
      "Echendens-LHS_14915.png_35.png\n",
      "OpenCV(4.6.0) /io/opencv/modules/core/src/matrix.cpp:749: error: (-215:Assertion failed) m.dims >= 2 in function 'Mat'\n",
      "\n",
      "LOL- Na hopayega\n"
     ]
    },
    {
     "name": "stderr",
     "output_type": "stream",
     "text": [
      "libpng error: Read Error\n"
     ]
    },
    {
     "name": "stdout",
     "output_type": "stream",
     "text": [
      "Echendens-LHS_14349.png_15.png\n",
      "OpenCV(4.6.0) /io/opencv/modules/core/src/matrix.cpp:749: error: (-215:Assertion failed) m.dims >= 2 in function 'Mat'\n",
      "\n",
      "LOL- Na hopayega\n",
      "Echendens-LHS_14349.png_25.png\n",
      "OpenCV(4.6.0) /io/opencv/modules/core/src/matrix.cpp:749: error: (-215:Assertion failed) m.dims >= 2 in function 'Mat'\n",
      "\n",
      "LOL- Na hopayega\n",
      "Echendens-LHS_14349.png_35.png\n",
      "OpenCV(4.6.0) /io/opencv/modules/core/src/matrix.cpp:749: error: (-215:Assertion failed) m.dims >= 2 in function 'Mat'\n",
      "\n",
      "LOL- Na hopayega\n"
     ]
    }
   ],
   "source": [
    "\n",
    "folder = \"/home/aryna/Documents/Sem_5/CV/AerialPoseEstimator/Datasets/Output/\"\n",
    "count = 0\n",
    "\n",
    "for filename in list(reversed(os.listdir(folder))):\n",
    "    count += 1\n",
    "    temp = os.path.join(folder,filename)\n",
    "    if(temp.endswith('png')):\n",
    "        img = cv2.imread(temp)\n",
    "        gammaCorrection(img, filename)\n",
    "#     print(count)"
   ]
  },
  {
   "cell_type": "code",
   "execution_count": 43,
   "id": "9642b306",
   "metadata": {},
   "outputs": [
    {
     "name": "stdout",
     "output_type": "stream",
     "text": [
      "Echendens-LHS_14349\n",
      "Echendens-LHS_14916\n",
      "Echendens-LHS_14346\n",
      "Echendens-LHS_14341\n",
      "Echendens-LHS_14915\n",
      "Echendens-LHS_14347\n",
      "Echendens-LHS_14377\n",
      "Echendens-LHS_14914\n",
      "Echendens-LHS_14670\n",
      "Echendens-LHS_14384\n",
      "Echendens-LHS_14345\n"
     ]
    }
   ],
   "source": [
    "input_error_files = set({})\n",
    "for error_file in tempz:\n",
    "    input_error_files.add(error_file.split('.png_')[0].split('Input/')[1])\n",
    "for file in input_error_files:\n",
    "    print(file)"
   ]
  },
  {
   "cell_type": "code",
   "execution_count": null,
   "id": "0cd5954f",
   "metadata": {},
   "outputs": [],
   "source": []
  }
 ],
 "metadata": {
  "kernelspec": {
   "display_name": "Python 3 (ipykernel)",
   "language": "python",
   "name": "python3"
  },
  "language_info": {
   "codemirror_mode": {
    "name": "ipython",
    "version": 3
   },
   "file_extension": ".py",
   "mimetype": "text/x-python",
   "name": "python",
   "nbconvert_exporter": "python",
   "pygments_lexer": "ipython3",
   "version": "3.9.13"
  },
  "vscode": {
   "interpreter": {
    "hash": "916dbcbb3f70747c44a77c7bcd40155683ae19c65e1c03b4aa3499c5328201f1"
   }
  }
 },
 "nbformat": 4,
 "nbformat_minor": 5
}
