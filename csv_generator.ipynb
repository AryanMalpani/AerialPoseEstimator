{
 "cells": [
  {
   "cell_type": "code",
   "execution_count": 41,
   "source": [
    "import os\r\n",
    "import pandas as pd\r\n",
    "import numpy as np\r\n",
    "X = []\r\n",
    "y = []\r\n",
    "\r\n",
    "X_t = []\r\n",
    "y_t = []\r\n",
    "\r\n",
    "for filename in os.listdir('D:\\Input'):\r\n",
    "    if(filename.endswith('png')):\r\n",
    "        \r\n",
    "        output_name = filename[:(filename.find(\".png\")+4)]\r\n",
    "        \r\n",
    "        if output_name in y:\r\n",
    "            y.append(\"./Datasets/Output/\"+output_name)\r\n",
    "            X.append(\"./Datasets/Input/\"+filename)\r\n",
    "            continue\r\n",
    "        elif output_name in y_t:\r\n",
    "            y_t.append(\"./Datasets/Output/\"+output_name)\r\n",
    "            X_t.append(\"./Datasets/Input/\"+filename)\r\n",
    "            continue\r\n",
    "\r\n",
    "        temp = np.random.randint(0,10)\r\n",
    "        if(temp<2):\r\n",
    "            y.append(\"./Datasets/Output/\"+output_name)\r\n",
    "            X.append(\"./Datasets/Input/\"+filename)\r\n",
    "        else:\r\n",
    "            y_t.append(\"./Datasets/Output/\"+output_name)\r\n",
    "            X_t.append(\"./Datasets/Input/\"+filename)\r\n",
    "\r\n",
    "df = pd.DataFrame({ 'output': y,'input': X} )\r\n",
    "df.set_index(\"output\", inplace=True)\r\n",
    "df.to_csv('dataset_test.csv')\r\n",
    "\r\n",
    "df2 = pd.DataFrame({'output': y_t,'input': X_t} )\r\n",
    "df2.set_index(\"output\", inplace=True)\r\n",
    "df2.to_csv('dataset_train.csv')"
   ],
   "outputs": [],
   "metadata": {}
  },
  {
   "cell_type": "code",
   "execution_count": null,
   "source": [
    "len(df2)/len(df)"
   ],
   "outputs": [],
   "metadata": {}
  },
  {
   "cell_type": "code",
   "execution_count": null,
   "source": [],
   "outputs": [],
   "metadata": {}
  }
 ],
 "metadata": {
  "kernelspec": {
   "name": "python3",
   "display_name": "Python 3.9.13 64-bit ('base': conda)"
  },
  "language_info": {
   "codemirror_mode": {
    "name": "ipython",
    "version": 3
   },
   "file_extension": ".py",
   "mimetype": "text/x-python",
   "name": "python",
   "nbconvert_exporter": "python",
   "pygments_lexer": "ipython3",
   "version": "3.9.13"
  },
  "vscode": {
   "interpreter": {
    "hash": "916dbcbb3f70747c44a77c7bcd40155683ae19c65e1c03b4aa3499c5328201f1"
   }
  },
  "interpreter": {
   "hash": "ca99a4a369ee17e4f8f8d1e9c15a67dc0716d4af547657367fbf4934876c20f3"
  }
 },
 "nbformat": 4,
 "nbformat_minor": 2
}