{
 "cells": [
  {
   "cell_type": "code",
   "execution_count": 12,
   "metadata": {},
   "outputs": [],
   "source": [
    "import os\n",
    "import pandas as pd\n",
    "import numpy as np\n",
    "X = []\n",
    "y = []\n",
    "\n",
    "X_t = []\n",
    "y_t = []\n",
    "\n",
    "folder_path = \"\"\n",
    "for filename in os.listdir('/home/aryna/Documents/Sem 5/CV/AerialPoseEstimator/Datasets/Output'):\n",
    "    if(filename.endswith('png')):\n",
    "        temp = np.random.randint(0,10)\n",
    "        if(temp<2):\n",
    "            for i in range(0,9):\n",
    "                y.append(\"./Datasets/Output/\"+filename)\n",
    "                X.append(\"./Datasets/Input/\"+str(filename)+\"_\"+str(i+2)+\".png\")\n",
    "        else:\n",
    "            for i in range(0,9):\n",
    "                y_t.append(\"./Datasets/Output/\"+filename)\n",
    "                X_t.append(\"./Datasets/Input/\"+str(filename)+\"_\"+str(i+2)+\".png\")\n",
    " \n",
    "df = pd.DataFrame({ 'output': y,'input': X} )\n",
    "df.set_index(\"output\", inplace=True)\n",
    "df.to_csv('dataset_test.csv')\n",
    "\n",
    "df2 = pd.DataFrame({'output': y_t,'input': X_t} )\n",
    "df2.set_index(\"output\", inplace=True)\n",
    "df2.to_csv('dataset_train.csv')"
   ]
  },
  {
   "cell_type": "code",
   "execution_count": 9,
   "metadata": {},
   "outputs": [
    {
     "data": {
      "text/plain": [
       "4.001667222407469"
      ]
     },
     "execution_count": 9,
     "metadata": {},
     "output_type": "execute_result"
    }
   ],
   "source": [
    "len(df2)/len(df)"
   ]
  },
  {
   "cell_type": "code",
   "execution_count": null,
   "metadata": {},
   "outputs": [],
   "source": []
  }
 ],
 "metadata": {
  "kernelspec": {
   "display_name": "Python 3.10.6 64-bit",
   "language": "python",
   "name": "python3"
  },
  "language_info": {
   "codemirror_mode": {
    "name": "ipython",
    "version": 3
   },
   "file_extension": ".py",
   "mimetype": "text/x-python",
   "name": "python",
   "nbconvert_exporter": "python",
   "pygments_lexer": "ipython3",
   "version": "3.10.6"
  },
  "orig_nbformat": 4,
  "vscode": {
   "interpreter": {
    "hash": "916dbcbb3f70747c44a77c7bcd40155683ae19c65e1c03b4aa3499c5328201f1"
   }
  }
 },
 "nbformat": 4,
 "nbformat_minor": 2
}
