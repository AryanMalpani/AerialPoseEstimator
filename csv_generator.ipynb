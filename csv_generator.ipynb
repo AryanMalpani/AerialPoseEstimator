{
 "cells": [
  {
   "cell_type": "code",
   "execution_count": 41,
   "metadata": {},
   "outputs": [],
   "source": [
    "import os\n",
    "import pandas as pd\n",
    "import numpy as np\n",
    "import random\n",
    "X = []\n",
    "y = []\n",
    "\n",
    "X_t = []\n",
    "y_t = []\n",
    "\n",
    "for filename in os.listdir('D:\\Input'):\n",
    "    if(filename.endswith('png')):\n",
    "        \n",
    "        output_name = filename[:(filename.find(\".png\")+4)]\n",
    "        \n",
    "        if output_name in y:\n",
    "            y.append(\"./Datasets/Output/\"+output_name)\n",
    "            X.append(\"./Datasets/Input/\"+filename)\n",
    "            continue\n",
    "        elif output_name in y_t:\n",
    "            y_t.append(\"./Datasets/Output/\"+output_name)\n",
    "            X_t.append(\"./Datasets/Input/\"+filename)\n",
    "            continue\n",
    "\n",
    "        temp = np.random.randint(0,10)\n",
    "        if(temp<2):\n",
    "            y.append(\"./Datasets/Output/\"+output_name)\n",
    "            X.append(\"./Datasets/Input/\"+filename)\n",
    "        else:\n",
    "            y_t.append(\"./Datasets/Output/\"+output_name)\n",
    "            X_t.append(\"./Datasets/Input/\"+filename)\n",
    "\n",
    "df = pd.DataFrame({ 'output': y,'input': X} )\n",
    "df.set_index(\"output\", inplace=True)\n",
    "df.to_csv('dataset_test.csv')\n",
    "\n",
    "df2 = pd.DataFrame({'output': y_t,'input': X_t} )\n",
    "df2.set_index(\"output\", inplace=True)\n",
    "df2.to_csv('dataset_train.csv')"
   ]
  },
  {
   "cell_type": "code",
   "execution_count": null,
   "metadata": {},
   "outputs": [],
   "source": [
    "len(df2)/len(df)"
   ]
  },
  {
   "cell_type": "code",
   "execution_count": null,
   "metadata": {},
   "outputs": [],
   "source": [
    "# A Python3 Program to generate test cases\n",
    "# for matrix filled with random numbers\n",
    "\n",
    "\n",
    "# the number of runs\n",
    "# for the test data generated\n",
    "RUN = 1;\n",
    "\n",
    "# minimum range of random numbers\n",
    "lowerBound = 0;\n",
    "\n",
    "# maximum range of random numbers\n",
    "upperBound = 1000;\n",
    "\n",
    "# maximum size of column\n",
    "maxColumn = 10;\n",
    "\n",
    "# minimum size of column\n",
    "minColumn = 1;\n",
    "\n",
    "# minimum size of row\n",
    "minRow = 1;\n",
    "\n",
    "# maximum size of row\n",
    "maxRow = 10;\n",
    "\t\n",
    "# Driver Code\n",
    "if __name__ == '__main__':\n",
    "\t\n",
    "\tfor i in range(RUN):\n",
    "\t\trow = 100\n",
    "\t\t\n",
    "\t\tcolumn = 100\n",
    "\t\t\n",
    "\t\tmatrix = [[0 for i in range(column)] for j in range(row)]\n",
    "\t\t\n",
    "\t\tprint(row, column)\n",
    "\t\t\n",
    "\t\tfor j in range(row):\n",
    "\t\t\tprint(\"{\" ,end = \"\")\n",
    "\t\t\tfor k in range(column):\n",
    "\t\t\t\ta = random.randrange(0, upperBound - lowerBound) + lowerBound\n",
    "\t\t\t\tprint(a ,end = \", \")\n",
    "\t\t\tprint()\n",
    "\t\tprint()\n",
    "\t\t\n",
    "# This code is contributed by Shubham Singh\n"
   ]
  }
 ],
 "metadata": {
  "interpreter": {
   "hash": "ca99a4a369ee17e4f8f8d1e9c15a67dc0716d4af547657367fbf4934876c20f3"
  },
  "kernelspec": {
   "display_name": "Python 3 (ipykernel)",
   "language": "python",
   "name": "python3"
  },
  "language_info": {
   "codemirror_mode": {
    "name": "ipython",
    "version": 3
   },
   "file_extension": ".py",
   "mimetype": "text/x-python",
   "name": "python",
   "nbconvert_exporter": "python",
   "pygments_lexer": "ipython3",
   "version": "3.9.13"
  },
  "vscode": {
   "interpreter": {
    "hash": "916dbcbb3f70747c44a77c7bcd40155683ae19c65e1c03b4aa3499c5328201f1"
   }
  }
 },
 "nbformat": 4,
 "nbformat_minor": 2
}
